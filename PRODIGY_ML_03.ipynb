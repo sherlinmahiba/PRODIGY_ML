{
  "nbformat": 4,
  "nbformat_minor": 0,
  "metadata": {
    "colab": {
      "provenance": []
    },
    "kernelspec": {
      "name": "python3",
      "display_name": "Python 3"
    },
    "language_info": {
      "name": "python"
    }
  },
  "cells": [
    {
      "cell_type": "code",
      "source": [
        "import os\n",
        "import numpy as np\n",
        "from tensorflow.keras.preprocessing.image import load_img, img_to_array\n",
        "\n",
        "# Paths to the extracted train and test directories\n",
        "train_extract_path = '/content/drive/MyDrive/Task 03/train'\n",
        "test_extract_path = '/content/drive/MyDrive/Task 03/test'\n",
        "\n",
        "# Load image data and labels\n",
        "def load_data(data_path):\n",
        "    images = []\n",
        "    labels = []\n",
        "    for filename in os.listdir(data_path):\n",
        "        if filename.endswith('.jpg'):\n",
        "            label = 0 if 'cat' in filename else 1\n",
        "            img = load_img(os.path.join(data_path, filename), target_size=(64, 64))\n",
        "            img_array = img_to_array(img)\n",
        "            images.append(img_array)\n",
        "            labels.append(label)\n",
        "    return np.array(images), np.array(labels)\n",
        "\n",
        "train_images, train_labels = load_data(train_extract_path)\n",
        "test_images, test_labels = load_data(test_extract_path)\n",
        "\n",
        "# Print the number of loaded images and the distribution of labels\n",
        "print(f'Train images loaded: {len(train_images)}')\n",
        "print(f'Test images loaded: {len(test_images)}')\n",
        "print(f'Train label distribution: {np.bincount(train_labels)}')\n",
        "print(f'Test label distribution: {np.bincount(test_labels)}')"
      ],
      "metadata": {
        "id": "BzssvCQSSZRx",
        "colab": {
          "base_uri": "https://localhost:8080/"
        },
        "outputId": "a99b2d86-4e1c-4c48-9932-2daa45f75250"
      },
      "execution_count": 12,
      "outputs": [
        {
          "output_type": "stream",
          "name": "stdout",
          "text": [
            "Train images loaded: 1008\n",
            "Test images loaded: 1044\n",
            "Train label distribution: [506 502]\n",
            "Test label distribution: [   0 1044]\n"
          ]
        }
      ]
    },
    {
      "cell_type": "code",
      "source": [
        "# Check if images are loaded correctly before preprocessing\n",
        "if len(train_images) == 0 or len(test_images) == 0:\n",
        "    raise ValueError(\"No images were loaded. Please check the dataset path and ensure the images are in the correct format.\")\n",
        "\n",
        "# Normalize pixel values\n",
        "train_images = train_images.astype('float32') / 255.0\n",
        "test_images = test_images.astype('float32') / 255.0\n",
        "\n",
        "# Flatten images for SVM input\n",
        "train_images_flat = train_images.reshape(train_images.shape[0], -1)\n",
        "test_images_flat = test_images.reshape(test_images.shape[0], -1)\n",
        "\n",
        "# Print the shapes of the flattened images\n",
        "print(f'Train images shape: {train_images_flat.shape}')\n",
        "print(f'Test images shape: {test_images_flat.shape}')"
      ],
      "metadata": {
        "colab": {
          "base_uri": "https://localhost:8080/"
        },
        "id": "jYTDFHgNobcn",
        "outputId": "7a4ab582-c2ad-4ee3-df0b-b4dd9d9c9182"
      },
      "execution_count": 13,
      "outputs": [
        {
          "output_type": "stream",
          "name": "stdout",
          "text": [
            "Train images shape: (1008, 12288)\n",
            "Test images shape: (1044, 12288)\n"
          ]
        }
      ]
    },
    {
      "cell_type": "code",
      "source": [
        "from sklearn.decomposition import PCA\n",
        "from sklearn.svm import SVC\n",
        "from sklearn.metrics import accuracy_score, classification_report\n",
        "\n",
        "# Apply PCA to reduce dimensionality\n",
        "pca = PCA(n_components=0.95, random_state=42)\n",
        "train_images_pca = pca.fit_transform(train_images_flat)\n",
        "test_images_pca = pca.transform(test_images_flat)\n",
        "\n",
        "# Ensure there are two classes in the training data\n",
        "if len(np.unique(train_labels)) < 2:\n",
        "    raise ValueError(\"The number of classes has to be greater than one. Ensure both cats and dogs are present in the training data.\")\n",
        "\n",
        "# Train the SVM classifier\n",
        "svm = SVC(kernel='linear', random_state=42)\n",
        "svm.fit(train_images_pca, train_labels)\n",
        "\n",
        "# Make predictions on the test set\n",
        "test_predictions = svm.predict(test_images_pca)"
      ],
      "metadata": {
        "id": "Ms8HYFhGoezp"
      },
      "execution_count": 14,
      "outputs": []
    },
    {
      "cell_type": "code",
      "source": [
        "# Calculate accuracy\n",
        "accuracy = accuracy_score(test_labels, test_predictions)\n",
        "print(f'Accuracy: {accuracy * 100:.2f}%')\n",
        "\n",
        "# Print classification report\n",
        "report = classification_report(test_labels, test_predictions, target_names=['Cat', 'Dog'])\n",
        "print(report)"
      ],
      "metadata": {
        "colab": {
          "base_uri": "https://localhost:8080/"
        },
        "id": "Z9xoNR_n0HQZ",
        "outputId": "c1641040-7a5a-40af-e414-e9ead90ca1e3"
      },
      "execution_count": 15,
      "outputs": [
        {
          "output_type": "stream",
          "name": "stdout",
          "text": [
            "Accuracy: 51.63%\n",
            "              precision    recall  f1-score   support\n",
            "\n",
            "         Cat       0.00      0.00      0.00         0\n",
            "         Dog       1.00      0.52      0.68      1044\n",
            "\n",
            "    accuracy                           0.52      1044\n",
            "   macro avg       0.50      0.26      0.34      1044\n",
            "weighted avg       1.00      0.52      0.68      1044\n",
            "\n"
          ]
        },
        {
          "output_type": "stream",
          "name": "stderr",
          "text": [
            "/usr/local/lib/python3.10/dist-packages/sklearn/metrics/_classification.py:1344: UndefinedMetricWarning: Recall and F-score are ill-defined and being set to 0.0 in labels with no true samples. Use `zero_division` parameter to control this behavior.\n",
            "  _warn_prf(average, modifier, msg_start, len(result))\n",
            "/usr/local/lib/python3.10/dist-packages/sklearn/metrics/_classification.py:1344: UndefinedMetricWarning: Recall and F-score are ill-defined and being set to 0.0 in labels with no true samples. Use `zero_division` parameter to control this behavior.\n",
            "  _warn_prf(average, modifier, msg_start, len(result))\n",
            "/usr/local/lib/python3.10/dist-packages/sklearn/metrics/_classification.py:1344: UndefinedMetricWarning: Recall and F-score are ill-defined and being set to 0.0 in labels with no true samples. Use `zero_division` parameter to control this behavior.\n",
            "  _warn_prf(average, modifier, msg_start, len(result))\n"
          ]
        }
      ]
    },
    {
      "cell_type": "code",
      "source": [
        "import matplotlib.pyplot as plt\n",
        "import seaborn as sns\n",
        "from sklearn.metrics import confusion_matrix\n",
        "\n",
        "# Plot confusion matrix\n",
        "conf_matrix = confusion_matrix(test_labels, test_predictions)\n",
        "plt.figure(figsize=(8, 6))\n",
        "sns.heatmap(conf_matrix, annot=True, fmt='d', cmap='Blues', xticklabels=['Cat', 'Dog'], yticklabels=['Cat', 'Dog'])\n",
        "plt.xlabel('Predicted')\n",
        "plt.ylabel('True')\n",
        "plt.title('Confusion Matrix')\n",
        "plt.show()"
      ],
      "metadata": {
        "colab": {
          "base_uri": "https://localhost:8080/",
          "height": 564
        },
        "id": "1Vk7w9Pg0Kcx",
        "outputId": "ea275162-9c04-4587-90a1-42357f6acc05"
      },
      "execution_count": 16,
      "outputs": [
        {
          "output_type": "display_data",
          "data": {
            "text/plain": [
              "<Figure size 800x600 with 2 Axes>"
            ],
            "image/png": "[encoded data removed]"
          },
          "metadata": {}
        }
      ]
    }
  ]
}